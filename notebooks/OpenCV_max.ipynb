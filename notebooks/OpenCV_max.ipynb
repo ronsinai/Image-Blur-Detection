{
 "cells": [
  {
   "cell_type": "markdown",
   "metadata": {},
   "source": [
    "# Maximum of the Laplacian"
   ]
  },
  {
   "cell_type": "markdown",
   "metadata": {},
   "source": [
    "This method yielded an accuracy of **63.58%**.\n",
    "\n",
    "- The result of the *Laplacian Operator* is converted to an absolute scale (0-255)\n",
    "- The max of the values is taken for each image\n",
    "- The threshold is set at 215:\n",
    "    - Values lower than 215, classify the image as out-of-focus or blurry\n",
    "    - Greater than 215 is classified as non-blurred"
   ]
  },
  {
   "cell_type": "markdown",
   "metadata": {},
   "source": [
    "----"
   ]
  },
  {
   "cell_type": "markdown",
   "metadata": {},
   "source": [
    "### Imports"
   ]
  },
  {
   "cell_type": "code",
   "execution_count": 1,
   "metadata": {},
   "outputs": [],
   "source": [
    "import cv2"
   ]
  },
  {
   "cell_type": "code",
   "execution_count": 2,
   "metadata": {},
   "outputs": [],
   "source": [
    "import os\n",
    "import pickle\n",
    "import numpy as np\n",
    "import pandas as pd"
   ]
  },
  {
   "cell_type": "code",
   "execution_count": 3,
   "metadata": {},
   "outputs": [
    {
     "name": "stderr",
     "output_type": "stream",
     "text": [
      "Using TensorFlow backend.\n"
     ]
    }
   ],
   "source": [
    "#from keras.models import Sequential\n",
    "#from keras.layers.convolutional import Convolution2D\n",
    "#from keras.layers.pooling import MaxPooling2D\n",
    "#from keras.layers.core import Flatten, Dense, Activation, Dropout\n",
    "from keras.preprocessing import image\n",
    "#from keras.callbacks import EarlyStopping, ModelCheckpoint\n",
    "#from keras.utils.np_utils import to_categorical"
   ]
  },
  {
   "cell_type": "code",
   "execution_count": 4,
   "metadata": {},
   "outputs": [],
   "source": [
    "#from sklearn.model_selection import train_test_split\n",
    "from sklearn.metrics import accuracy_score"
   ]
  },
  {
   "cell_type": "code",
   "execution_count": 5,
   "metadata": {},
   "outputs": [],
   "source": [
    "#from matplotlib import pyplot as plt"
   ]
  },
  {
   "cell_type": "code",
   "execution_count": 6,
   "metadata": {},
   "outputs": [],
   "source": [
    "from scipy import stats"
   ]
  },
  {
   "cell_type": "markdown",
   "metadata": {},
   "source": [
    "---"
   ]
  },
  {
   "cell_type": "markdown",
   "metadata": {},
   "source": [
    "### Algorithm"
   ]
  },
  {
   "cell_type": "code",
   "execution_count": 7,
   "metadata": {},
   "outputs": [],
   "source": [
    "input_size = (192, 192)\n",
    "threshold = 215"
   ]
  },
  {
   "cell_type": "code",
   "execution_count": 8,
   "metadata": {},
   "outputs": [],
   "source": [
    "def variance_of_laplacian(image):\n",
    "    \"\"\"\n",
    "    Compute the Laplacian of the image and then return the focus measure,\n",
    "    which is simply the variance of the Laplacian\n",
    "    \"\"\"\n",
    "    return cv2.Laplacian(image, cv2.CV_64F).var()"
   ]
  },
  {
   "cell_type": "code",
   "execution_count": 9,
   "metadata": {},
   "outputs": [],
   "source": [
    "X_test = []\n",
    "y_test = []\n",
    "y_pred = []\n",
    "val_blur = []\n",
    "val_nblur = []"
   ]
  },
  {
   "cell_type": "markdown",
   "metadata": {},
   "source": [
    "*Digital-Blur-Set* and *Natural-Blur-Set*:"
   ]
  },
  {
   "cell_type": "code",
   "execution_count": 10,
   "metadata": {},
   "outputs": [],
   "source": [
    "dgbset = pd.read_excel('../CERTH_ImageBlurDataset/EvaluationSet/DigitalBlurSet.xlsx')\n",
    "nbset = pd.read_excel('../CERTH_ImageBlurDataset/EvaluationSet/NaturalBlurSet.xlsx')"
   ]
  },
  {
   "cell_type": "code",
   "execution_count": 11,
   "metadata": {},
   "outputs": [],
   "source": [
    "dgbset['MyDigital Blur'] = dgbset['MyDigital Blur'].apply(lambda x: x.strip())\n",
    "dgbset = dgbset.rename(index=str, columns={\"Unnamed: 1\": \"Blur Label\"})"
   ]
  },
  {
   "cell_type": "code",
   "execution_count": 12,
   "metadata": {},
   "outputs": [],
   "source": [
    "nbset['Image Name'] = nbset['Image Name'].apply(lambda x: x.strip())"
   ]
  },
  {
   "cell_type": "markdown",
   "metadata": {},
   "source": [
    "Run for the artificially-generated images:"
   ]
  },
  {
   "cell_type": "code",
   "execution_count": 13,
   "metadata": {},
   "outputs": [],
   "source": [
    "folderpath = '../CERTH_ImageBlurDataset/EvaluationSet/DigitalBlurSet/'"
   ]
  },
  {
   "cell_type": "code",
   "execution_count": 14,
   "metadata": {},
   "outputs": [
    {
     "name": "stdout",
     "output_type": "stream",
     "text": [
      "Digitally Blurred Evaluated...\n"
     ]
    }
   ],
   "source": [
    "for filename in os.listdir(folderpath):\n",
    "    imagepath = os.path.join(folderpath, filename)\n",
    "    img = image.load_img(imagepath, target_size=input_size)\n",
    "    X_test.append(np.asarray(img))\n",
    "\n",
    "    blur = dgbset[dgbset['MyDigital Blur'] == filename].iloc[0]['Blur Label']\n",
    "    gray = cv2.cvtColor(np.asarray(img), cv2.COLOR_BGR2GRAY)\n",
    "    maxval = np.max(cv2.convertScaleAbs(cv2.Laplacian(gray, 3)))\n",
    "\n",
    "    if maxval < threshold:\n",
    "        y_pred.append(1)\n",
    "    else:\n",
    "        y_pred.append(0)\n",
    "\n",
    "    if blur == 1:\n",
    "        y_test.append(1)\n",
    "        val_blur.append(maxval)\n",
    "    else:\n",
    "        y_test.append(0)\n",
    "        val_nblur.append(maxval)\n",
    "\n",
    "print(\"Digitally Blurred Evaluated...\")"
   ]
  },
  {
   "cell_type": "markdown",
   "metadata": {},
   "source": [
    "Run for the natural images:"
   ]
  },
  {
   "cell_type": "code",
   "execution_count": 15,
   "metadata": {},
   "outputs": [],
   "source": [
    "folderpath = '../CERTH_ImageBlurDataset/EvaluationSet/NaturalBlurSet/'"
   ]
  },
  {
   "cell_type": "code",
   "execution_count": 16,
   "metadata": {},
   "outputs": [],
   "source": [
    "for filename in os.listdir(folderpath):\n",
    "    imagepath = os.path.join(folderpath, filename)\n",
    "    img = image.load_img(imagepath, target_size=input_size)\n",
    "    X_test.append(np.asarray(img))\n",
    "    \n",
    "    blur = nbset[nbset['Image Name'] == filename.split('.')[0]].iloc[0]['Blur Label']\n",
    "    gray = cv2.cvtColor(np.asarray(img), cv2.COLOR_BGR2GRAY)\n",
    "    maxval = np.max(cv2.convertScaleAbs(cv2.Laplacian(gray, 3)))\n",
    "    \n",
    "    if maxval < threshold:\n",
    "        y_pred.append(1)\n",
    "    else:\n",
    "        y_pred.append(0)\n",
    "    \n",
    "    if blur == 1:\n",
    "        y_test.append(1)\n",
    "        val_blur.append(maxval)\n",
    "    else:\n",
    "        y_test.append(0)\n",
    "        val_nblur.append(maxval)"
   ]
  },
  {
   "cell_type": "code",
   "execution_count": 17,
   "metadata": {},
   "outputs": [
    {
     "name": "stdout",
     "output_type": "stream",
     "text": [
      "Naturally Blurred Evaluated...\n"
     ]
    }
   ],
   "source": [
    "print(\"Naturally Blurred Evaluated...\")"
   ]
  },
  {
   "cell_type": "markdown",
   "metadata": {},
   "source": [
    "Compute accuracy:"
   ]
  },
  {
   "cell_type": "code",
   "execution_count": 18,
   "metadata": {},
   "outputs": [
    {
     "name": "stdout",
     "output_type": "stream",
     "text": [
      "accuracy: 63.58%\n"
     ]
    }
   ],
   "source": [
    "accuracy = accuracy_score(y_test, y_pred)\n",
    "print(\"accuracy: {:.2f}%\".format(accuracy * 100))"
   ]
  },
  {
   "cell_type": "markdown",
   "metadata": {},
   "source": [
    "More stats:"
   ]
  },
  {
   "cell_type": "code",
   "execution_count": 19,
   "metadata": {},
   "outputs": [
    {
     "name": "stdout",
     "output_type": "stream",
     "text": [
      "255.0\n",
      "255.0\n",
      "DescribeResult(nobs=861, minmax=(17, 255), mean=201.98606271777004, variance=5369.678875293736, skewness=-1.0729189514344002, kurtosis=-0.3269821207133945)\n",
      "DescribeResult(nobs=619, minmax=(188, 255), mean=254.8675282714055, variance=7.610254560283579, skewness=-23.316063879349564, kurtosis=557.8368200149888)\n"
     ]
    }
   ],
   "source": [
    "print(np.percentile(val_blur,60))\n",
    "print(np.percentile(val_nblur,15))"
   ]
  }
 ],
 "metadata": {
  "kernelspec": {
   "display_name": "Python 3",
   "language": "python",
   "name": "python3"
  },
  "language_info": {
   "codemirror_mode": {
    "name": "ipython",
    "version": 3
   },
   "file_extension": ".py",
   "mimetype": "text/x-python",
   "name": "python",
   "nbconvert_exporter": "python",
   "pygments_lexer": "ipython3",
   "version": "3.7.1"
  }
 },
 "nbformat": 4,
 "nbformat_minor": 2
}

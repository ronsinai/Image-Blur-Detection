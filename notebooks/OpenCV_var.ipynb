{
 "cells": [
  {
   "cell_type": "markdown",
   "metadata": {},
   "source": [
    "# Variation of the Laplacian"
   ]
  },
  {
   "cell_type": "markdown",
   "metadata": {},
   "source": [
    "This method yielded an accuracy of **87.23%**.\n",
    "\n",
    "- The *Laplacian Operator* is applied on each of the images\n",
    "- The variation of the result is calculated\n",
    "  - If the variation is below the threshold, 400 in this case, the image is classified as blurry\n",
    "  - Otherwise, it is classified as non-blurry."
   ]
  },
  {
   "cell_type": "markdown",
   "metadata": {},
   "source": [
    "----"
   ]
  },
  {
   "cell_type": "markdown",
   "metadata": {},
   "source": [
    "### Imports"
   ]
  },
  {
   "cell_type": "code",
   "execution_count": 1,
   "metadata": {},
   "outputs": [],
   "source": [
    "import cv2"
   ]
  },
  {
   "cell_type": "code",
   "execution_count": 2,
   "metadata": {},
   "outputs": [],
   "source": [
    "import os\n",
    "import pickle\n",
    "import numpy as np\n",
    "import pandas as pd"
   ]
  },
  {
   "cell_type": "code",
   "execution_count": 3,
   "metadata": {},
   "outputs": [
    {
     "name": "stderr",
     "output_type": "stream",
     "text": [
      "Using TensorFlow backend.\n"
     ]
    }
   ],
   "source": [
    "#from keras.models import Sequential\n",
    "#from keras.layers.convolutional import Convolution2D\n",
    "#from keras.layers.pooling import MaxPooling2D\n",
    "#from keras.layers.core import Flatten, Dense, Activation, Dropout\n",
    "from keras.preprocessing import image\n",
    "#from keras.callbacks import EarlyStopping, ModelCheckpoint\n",
    "#from keras.utils.np_utils import to_categorical"
   ]
  },
  {
   "cell_type": "code",
   "execution_count": 4,
   "metadata": {},
   "outputs": [],
   "source": [
    "#from sklearn.model_selection import train_test_split\n",
    "from sklearn.metrics import accuracy_score"
   ]
  },
  {
   "cell_type": "code",
   "execution_count": 5,
   "metadata": {},
   "outputs": [],
   "source": [
    "#from matplotlib import pyplot as plt"
   ]
  },
  {
   "cell_type": "markdown",
   "metadata": {},
   "source": [
    "---"
   ]
  },
  {
   "cell_type": "markdown",
   "metadata": {},
   "source": [
    "### Algorithm"
   ]
  },
  {
   "cell_type": "code",
   "execution_count": 6,
   "metadata": {},
   "outputs": [],
   "source": [
    "input_size = (512, 512)\n",
    "threshold = 400"
   ]
  },
  {
   "cell_type": "code",
   "execution_count": 7,
   "metadata": {},
   "outputs": [],
   "source": [
    "def variance_of_laplacian(image):\n",
    "    \"\"\"\n",
    "    Compute the Laplacian of the image and then return the focus measure,\n",
    "    which is simply the variance of the Laplacian\n",
    "    \"\"\"\n",
    "    return cv2.Laplacian(image, cv2.CV_64F).var()"
   ]
  },
  {
   "cell_type": "code",
   "execution_count": 8,
   "metadata": {},
   "outputs": [],
   "source": [
    "X_test = []\n",
    "y_test = []\n",
    "y_pred = []\n",
    "t_blur = []\n",
    "t_nblur = []"
   ]
  },
  {
   "cell_type": "markdown",
   "metadata": {},
   "source": [
    "*Digital-Blur-Set* and *Natural-Blur-Set*:"
   ]
  },
  {
   "cell_type": "code",
   "execution_count": 9,
   "metadata": {},
   "outputs": [],
   "source": [
    "dgbset = pd.read_excel('../CERTH_ImageBlurDataset/EvaluationSet/DigitalBlurSet.xlsx')\n",
    "nbset = pd.read_excel('../CERTH_ImageBlurDataset/EvaluationSet/NaturalBlurSet.xlsx')"
   ]
  },
  {
   "cell_type": "code",
   "execution_count": 10,
   "metadata": {},
   "outputs": [],
   "source": [
    "dgbset['MyDigital Blur'] = dgbset['MyDigital Blur'].apply(lambda x: x.strip())\n",
    "dgbset = dgbset.rename(index=str, columns={\"Unnamed: 1\": \"Blur Label\"})"
   ]
  },
  {
   "cell_type": "code",
   "execution_count": 11,
   "metadata": {},
   "outputs": [],
   "source": [
    "nbset['Image Name'] = nbset['Image Name'].apply(lambda x: x.strip())"
   ]
  },
  {
   "cell_type": "markdown",
   "metadata": {},
   "source": [
    "Run for the artificially-generated images:"
   ]
  },
  {
   "cell_type": "code",
   "execution_count": 12,
   "metadata": {},
   "outputs": [],
   "source": [
    "folderpath = '../CERTH_ImageBlurDataset/EvaluationSet/DigitalBlurSet/'"
   ]
  },
  {
   "cell_type": "code",
   "execution_count": 13,
   "metadata": {},
   "outputs": [
    {
     "name": "stdout",
     "output_type": "stream",
     "text": [
      "Digitally Blurred Evaluated...\n"
     ]
    }
   ],
   "source": [
    "for filename in os.listdir(folderpath):\n",
    "    imagepath = os.path.join(folderpath, filename)\n",
    "    img = image.load_img(imagepath, target_size=input_size)\n",
    "    #X_test.append(np.asarray(img))\n",
    "    \n",
    "    blur = dgbset[dgbset['MyDigital Blur'] == filename].iloc[0]['Blur Label']\n",
    "    gray = cv2.cvtColor(np.asarray(img), cv2.COLOR_BGR2GRAY)\n",
    "    fm = variance_of_laplacian(gray)\n",
    "    \n",
    "    if fm < threshold:\n",
    "        y_pred.append(1)\n",
    "    else:\n",
    "        y_pred.append(0)\n",
    "\n",
    "    if blur == 1:\n",
    "        y_test.append(1)\n",
    "        t_blur.append(fm)\n",
    "    else:\n",
    "        y_test.append(0)\n",
    "        t_nblur.append(fm)\n",
    "\n",
    "print(\"Digitally Blurred Evaluated...\")"
   ]
  },
  {
   "cell_type": "markdown",
   "metadata": {},
   "source": [
    "Run for the natural images:"
   ]
  },
  {
   "cell_type": "code",
   "execution_count": 14,
   "metadata": {},
   "outputs": [],
   "source": [
    "folderpath = '../CERTH_ImageBlurDataset/EvaluationSet/NaturalBlurSet/'"
   ]
  },
  {
   "cell_type": "code",
   "execution_count": 15,
   "metadata": {},
   "outputs": [],
   "source": [
    "for filename in os.listdir(folderpath):\n",
    "    imagepath = os.path.join(folderpath, filename)\n",
    "    img = image.load_img(imagepath, target_size=input_size)\n",
    "    #X_test.append(np.asarray(img))\n",
    "    \n",
    "    blur = nbset[nbset['Image Name'] == filename.split('.')[0]].iloc[0]['Blur Label']\n",
    "    gray = cv2.cvtColor(np.asarray(img), cv2.COLOR_BGR2GRAY)\n",
    "    fm = variance_of_laplacian(gray)\n",
    "    \n",
    "    if fm < threshold:\n",
    "        y_pred.append(1)\n",
    "    else:\n",
    "        y_pred.append(0)\n",
    "    \n",
    "    if blur == 1:\n",
    "        y_test.append(1)\n",
    "        t_blur.append(fm)\n",
    "    else:\n",
    "        y_test.append(0)\n",
    "        t_nblur.append(fm)"
   ]
  },
  {
   "cell_type": "code",
   "execution_count": 16,
   "metadata": {},
   "outputs": [
    {
     "name": "stdout",
     "output_type": "stream",
     "text": [
      "Naturally Blurred Evaluated...\n"
     ]
    }
   ],
   "source": [
    "print(\"Naturally Blurred Evaluated...\")"
   ]
  },
  {
   "cell_type": "markdown",
   "metadata": {},
   "source": [
    "Compute accuracy:"
   ]
  },
  {
   "cell_type": "code",
   "execution_count": 17,
   "metadata": {},
   "outputs": [
    {
     "name": "stdout",
     "output_type": "stream",
     "text": [
      "accuracy: 87.23%\n"
     ]
    }
   ],
   "source": [
    "accuracy = accuracy_score(y_test, y_pred)\n",
    "print(\"accuracy: {:.2f}%\".format(accuracy * 100))"
   ]
  }
 ],
 "metadata": {
  "kernelspec": {
   "display_name": "Python 3",
   "language": "python",
   "name": "python3"
  },
  "language_info": {
   "codemirror_mode": {
    "name": "ipython",
    "version": 3
   },
   "file_extension": ".py",
   "mimetype": "text/x-python",
   "name": "python",
   "nbconvert_exporter": "python",
   "pygments_lexer": "ipython3",
   "version": "3.7.1"
  }
 },
 "nbformat": 4,
 "nbformat_minor": 2
}
